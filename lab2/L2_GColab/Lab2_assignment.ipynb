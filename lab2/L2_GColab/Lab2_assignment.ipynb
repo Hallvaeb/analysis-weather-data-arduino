{
 "cells": [
  {
   "cell_type": "markdown",
   "metadata": {
    "id": "JV5YbbVNlCLl"
   },
   "source": [
    "# Laboratory Session 2 -- Assignment\n",
    "\n",
    "To be delivered until 2022-12-16 23:59:59."
   ]
  },
  {
   "cell_type": "markdown",
   "metadata": {
    "id": "A746fsNRldR4"
   },
   "source": [
    "## Section 1 -- Linear Regression\n",
    "\n",
    "**1.** Consider a dataset with 100 observations, containing a single predictor and a quantitative response. Two different models are fitted to the data, a linear regression ($m_1: Y = \\beta_0 + \\beta_1 X + \\epsilon$) and a cubic regression ($m_2: Y = \\beta_0 + \\beta_1 X + \\beta_2 X^2 + \\beta_3 X^3 + \\epsilon$)."
   ]
  },
  {
   "cell_type": "markdown",
   "metadata": {
    "id": "gOuCfx3sm8hZ"
   },
   "source": [
    "**1.a)** Suppose that the actual relation between X and Y is linear. Can the **training** residual sum of squares (RSS) of the linear model be expected to be smaller, larger or equal to the one from the cubic model? Or is there no information to tell? Justify your answer."
   ]
  },
  {
   "cell_type": "code",
   "execution_count": null,
   "metadata": {
    "id": "h6V7QbAN6BIt"
   },
   "outputs": [],
   "source": []
  },
  {
   "cell_type": "markdown",
   "metadata": {
    "id": "f-Z6e3nem88s"
   },
   "source": [
    "**1.b)** Answer question 1.a) considering the test RSS rather than the training RSS."
   ]
  },
  {
   "cell_type": "code",
   "execution_count": null,
   "metadata": {
    "id": "8Ng5yyIL7sUE"
   },
   "outputs": [],
   "source": []
  },
  {
   "cell_type": "markdown",
   "metadata": {
    "id": "gmhX35ckm9St"
   },
   "source": [
    "**1.c)** Suppose that the actual relationship between X and Y is not linear, but it is not known how far it is from being linear. What is it expected of the the **training** RSS for the linear compared with the cubic models? Or is there not enough information? Justify your answer."
   ]
  },
  {
   "cell_type": "code",
   "execution_count": null,
   "metadata": {
    "id": "l3JRaXd28SUz"
   },
   "outputs": [],
   "source": []
  },
  {
   "cell_type": "markdown",
   "metadata": {
    "id": "68b9Gt-Sm9lp"
   },
   "source": [
    "**1.d)** Answer question 1.c) considering the test RSS rather than the training RSS."
   ]
  },
  {
   "cell_type": "code",
   "execution_count": null,
   "metadata": {
    "id": "FWjI9xe36tk2"
   },
   "outputs": [],
   "source": []
  },
  {
   "cell_type": "markdown",
   "metadata": {
    "id": "JlY6gihzHUm5"
   },
   "source": [
    "**2.a)** Load the dataset \"wine.csv\". Do not change the dataset file."
   ]
  },
  {
   "cell_type": "code",
   "execution_count": null,
   "metadata": {
    "colab": {
     "base_uri": "https://localhost:8080/",
     "height": 204
    },
    "id": "UJxs-3Vp9IhJ",
    "outputId": "2992adcb-3e85-41e2-c12e-448d7381cbb1"
   },
   "outputs": [],
   "source": []
  },
  {
   "cell_type": "markdown",
   "metadata": {},
   "source": [
    "**2.b)** Encode the feature \"type\"."
   ]
  },
  {
   "cell_type": "code",
   "execution_count": null,
   "metadata": {},
   "outputs": [],
   "source": []
  },
  {
   "cell_type": "markdown",
   "metadata": {
    "id": "BM90R_i8OCik"
   },
   "source": [
    "**2.c)** Perform a simple linear regression considering *quality* as the response and *pH* as the predictor. Given the results, comment on the following statements:"
   ]
  },
  {
   "cell_type": "code",
   "execution_count": null,
   "metadata": {
    "colab": {
     "base_uri": "https://localhost:8080/"
    },
    "id": "teI35X_p9TAM",
    "outputId": "067cea09-dfc5-4b69-ecda-a034e962e41b"
   },
   "outputs": [],
   "source": []
  },
  {
   "cell_type": "markdown",
   "metadata": {
    "id": "2BlMbcTJOsDD"
   },
   "source": [
    "    i) Are the predictor and response statistically related?"
   ]
  },
  {
   "cell_type": "code",
   "execution_count": null,
   "metadata": {
    "colab": {
     "base_uri": "https://localhost:8080/"
    },
    "id": "A8D5lnFP-BFs",
    "outputId": "32559090-83ba-4a2e-ddb5-d3380c637563"
   },
   "outputs": [],
   "source": []
  },
  {
   "cell_type": "markdown",
   "metadata": {
    "id": "ir5VRfrmO8o6"
   },
   "source": [
    "    ii) How strong is the relationship between predictor and response? (*Hint: comment on the R^2 score of the model*)"
   ]
  },
  {
   "cell_type": "code",
   "execution_count": null,
   "metadata": {
    "id": "iAVIppa5_Iyd"
   },
   "outputs": [],
   "source": []
  },
  {
   "cell_type": "markdown",
   "metadata": {
    "id": "D9JSjxC3O8x3"
   },
   "source": [
    "    iii) Is the relationship between the predictor and response positive or negative?"
   ]
  },
  {
   "cell_type": "code",
   "execution_count": null,
   "metadata": {
    "id": "aWlEqpgm_bnN"
   },
   "outputs": [],
   "source": []
  },
  {
   "cell_type": "markdown",
   "metadata": {
    "id": "mIzssLawO84u"
   },
   "source": [
    "    iv) What is the predicted value of quality when the pH is 9?"
   ]
  },
  {
   "cell_type": "code",
   "execution_count": null,
   "metadata": {
    "colab": {
     "base_uri": "https://localhost:8080/"
    },
    "id": "637jEcQD_r7z",
    "outputId": "caace6c5-5271-4739-8937-9c8160c7d316"
   },
   "outputs": [],
   "source": []
  },
  {
   "cell_type": "markdown",
   "metadata": {
    "id": "yRYL0_TeQQfp"
   },
   "source": [
    "**2.d)** Plot a scatter plot of the response and predictor, along with the regression line."
   ]
  },
  {
   "cell_type": "code",
   "execution_count": null,
   "metadata": {
    "colab": {
     "base_uri": "https://localhost:8080/",
     "height": 388
    },
    "id": "S7QpN6n1APVa",
    "outputId": "fd5339b9-82ac-4d9c-9fae-c6b75a5b6b4c"
   },
   "outputs": [],
   "source": []
  },
  {
   "cell_type": "markdown",
   "metadata": {
    "id": "1xBHkVadQ5Ot"
   },
   "source": [
    "## Section 2 -- Classification"
   ]
  },
  {
   "cell_type": "markdown",
   "metadata": {
    "id": "SIpGTVYkRD9A"
   },
   "source": [
    "**3)** Suppose that a dataset is divided into two equally-sized training and test sets, and then try out two different classification procedures:\n",
    "\n",
    "* The first is the logistic regression, obtaining an error rate of 20% on the training data and 30% on the test data.\n",
    "* The second is a 1-nearest neighbors, with an average error rate (averaged over test and training datasets) of 18%.\n",
    "\n",
    "Based on these results, which method is preferred for classifying new observations? Why?"
   ]
  },
  {
   "cell_type": "code",
   "execution_count": null,
   "metadata": {
    "id": "4oPohcizBV3J"
   },
   "outputs": [],
   "source": []
  },
  {
   "cell_type": "markdown",
   "metadata": {
    "id": "rpJxxZkFSjg3"
   },
   "source": [
    "**4.a)** Create a new column, \"quality7\", that contains a 1 if quality contains a value equal or above 7, and a 0 if quality contains a value below 7. Drop the original column \"quality\"."
   ]
  },
  {
   "cell_type": "code",
   "execution_count": null,
   "metadata": {
    "colab": {
     "base_uri": "https://localhost:8080/",
     "height": 670
    },
    "id": "h3qCZb_OGTcD",
    "outputId": "8333e35a-a482-4ea9-8fdf-350bdac23146"
   },
   "outputs": [],
   "source": []
  },
  {
   "cell_type": "markdown",
   "metadata": {
    "id": "xHvwjfYscqAl"
   },
   "source": [
    "**4.b)** Do a correlation matrix plot between all the columns to evaluate which features are linearly correlated. Consider a statistical significance of 0.1%. Describe your findings, with a focus on evaluating which features are most related with \"quality7\"."
   ]
  },
  {
   "cell_type": "code",
   "execution_count": null,
   "metadata": {
    "colab": {
     "base_uri": "https://localhost:8080/",
     "height": 1000
    },
    "id": "JXN8YYCgGs0K",
    "outputId": "7c049ee3-3aa8-4515-e4f3-600615342d39"
   },
   "outputs": [],
   "source": []
  },
  {
   "cell_type": "markdown",
   "metadata": {
    "id": "8168IcmcSjd4"
   },
   "source": [
    "**4.c)** Create the inputs as all the predictors and outputs as the \"quality7\" feature. Split the data into test and training datasets. Consider a test dataset comprised of 30% of the whole dataset."
   ]
  },
  {
   "cell_type": "code",
   "execution_count": null,
   "metadata": {
    "id": "Zmk2OAC3w-W6"
   },
   "outputs": [],
   "source": []
  },
  {
   "cell_type": "markdown",
   "metadata": {
    "id": "IWepa-QISjbZ"
   },
   "source": [
    "**4.d)** Perform LDA on the training data in order to predict \"quality7\" using the remaining variables. What is the test error of the model obtained?"
   ]
  },
  {
   "cell_type": "code",
   "execution_count": null,
   "metadata": {
    "colab": {
     "base_uri": "https://localhost:8080/"
    },
    "id": "bQquLCRDyizP",
    "outputId": "1d2e2b4c-b73a-4d4a-e2a4-76c384ffd570"
   },
   "outputs": [],
   "source": []
  },
  {
   "cell_type": "markdown",
   "metadata": {
    "id": "YWiMguFvSjWE"
   },
   "source": [
    "**4.e)** Perform QDA on the training data in order to predict \"quality7\" using the remaining variables. What is the test error of the model obtained?"
   ]
  },
  {
   "cell_type": "code",
   "execution_count": null,
   "metadata": {
    "colab": {
     "base_uri": "https://localhost:8080/"
    },
    "id": "bvzDUm5sze_l",
    "outputId": "551d1323-9c00-4475-aeaa-fa73eb7d0f50"
   },
   "outputs": [],
   "source": []
  },
  {
   "cell_type": "markdown",
   "metadata": {
    "id": "DFAhEuhSSjOz"
   },
   "source": [
    "**4.f)** Perform logistic regression on the training data in order to predict \"quality7\" using the remaining variables. What is the test error of the model obtained?"
   ]
  },
  {
   "cell_type": "code",
   "execution_count": null,
   "metadata": {
    "colab": {
     "base_uri": "https://localhost:8080/"
    },
    "id": "7oVkI9QUzufY",
    "outputId": "13b0d3c3-ec1f-48d1-e68d-06f65b043b48"
   },
   "outputs": [],
   "source": []
  },
  {
   "cell_type": "markdown",
   "metadata": {
    "id": "dJUvW41ViqMc"
   },
   "source": [
    "**4.g)** Perform naive Bayes on the training data in order to predict \"quality7\" using the remaining variables. What is the test error of the model obtained?"
   ]
  },
  {
   "cell_type": "code",
   "execution_count": null,
   "metadata": {
    "colab": {
     "base_uri": "https://localhost:8080/"
    },
    "id": "U6pzjPGc1y_t",
    "outputId": "06706c5a-8a45-4621-ebd2-83dae40d27ac"
   },
   "outputs": [],
   "source": []
  },
  {
   "cell_type": "markdown",
   "metadata": {
    "id": "tPRBsCLviqKm"
   },
   "source": [
    "**4.h)** Perform KNN on the training data, with several values of K, in order to predict \"quality7\" using the remaining variables. What test errors are obtained? Which value of K seems to perform the best on this data set?"
   ]
  },
  {
   "cell_type": "code",
   "execution_count": null,
   "metadata": {
    "colab": {
     "base_uri": "https://localhost:8080/",
     "height": 641
    },
    "id": "KCXGQmN52G7W",
    "outputId": "2acad9b9-7f01-40bb-de3a-e8e1b08b25b7"
   },
   "outputs": [],
   "source": []
  },
  {
   "cell_type": "markdown",
   "metadata": {
    "id": "nvhamoK0i2WZ"
   },
   "source": [
    "**4.i)** Calculate the area under curve (AUC) for the LDA, QDA, logistic regression, naive Bayes and for the best value of K for the KNN method. Compare the results."
   ]
  },
  {
   "cell_type": "code",
   "execution_count": null,
   "metadata": {
    "colab": {
     "base_uri": "https://localhost:8080/"
    },
    "id": "1rxOt0MU8DCK",
    "outputId": "6135bf7a-fbfa-43de-e6e4-1f4c8ee929d5"
   },
   "outputs": [],
   "source": []
  },
  {
   "cell_type": "markdown",
   "metadata": {},
   "source": [
    "**4.j)** Plot the ROC curves for the 5 methods. Compare the results."
   ]
  },
  {
   "cell_type": "code",
   "execution_count": null,
   "metadata": {
    "colab": {
     "base_uri": "https://localhost:8080/",
     "height": 388
    },
    "id": "iNXZovNn8Wlv",
    "outputId": "a16a5b29-226c-437d-e2ec-5a34ee33fca2"
   },
   "outputs": [],
   "source": []
  },
  {
   "cell_type": "markdown",
   "metadata": {
    "id": "jEtBKnHni2GT"
   },
   "source": [
    "## Section 3 -- Bootstrap and k-Fold"
   ]
  },
  {
   "cell_type": "markdown",
   "metadata": {
    "id": "AyCSRMx2pDsm"
   },
   "source": [
    "**5.a)** Explain how the leave-one-out cross validation (LOOCV) is implemented."
   ]
  },
  {
   "cell_type": "code",
   "execution_count": null,
   "metadata": {
    "id": "Bh8t6HC49HIl"
   },
   "outputs": [],
   "source": []
  },
  {
   "cell_type": "markdown",
   "metadata": {
    "id": "MbIethdmpcwr"
   },
   "source": [
    "**5.b)** What are the advantages and disadvantages of k-Fold cross-validation relative to:\n",
    "\n",
    "1. Validation set approach.\n",
    "2. Leave One Out Cross-Validation (LOOCV)"
   ]
  },
  {
   "cell_type": "code",
   "execution_count": null,
   "metadata": {
    "id": "F_U7i3m1MYWh"
   },
   "outputs": [],
   "source": []
  },
  {
   "cell_type": "markdown",
   "metadata": {
    "id": "jOcCUxFMpAGw"
   },
   "source": [
    "## Section 4 -- Other Questions"
   ]
  },
  {
   "cell_type": "markdown",
   "metadata": {
    "id": "jUkJU0D7pFWO"
   },
   "source": [
    "**6)** In your group's option, what are the advantages and disadvantages of using a virtual environment when programming in Python?"
   ]
  },
  {
   "cell_type": "code",
   "execution_count": null,
   "metadata": {
    "id": "4gyfaAIi9KVM"
   },
   "outputs": [],
   "source": []
  },
  {
   "cell_type": "markdown",
   "metadata": {
    "id": "W8dWu7BXpFTc"
   },
   "source": [
    "**7)** In your group's opinion, in what circumstances is it better to use Jupyter Notebooks and when is it better to use Google Colab notebooks? Give some specific examples."
   ]
  },
  {
   "cell_type": "code",
   "execution_count": null,
   "metadata": {
    "id": "rtVRKNrS9vYB"
   },
   "outputs": [],
   "source": []
  },
  {
   "cell_type": "markdown",
   "metadata": {
    "id": "Sl0krfG6pFH6"
   },
   "source": [
    "**8)** Enter your GitHub repository webpage."
   ]
  },
  {
   "cell_type": "code",
   "execution_count": null,
   "metadata": {},
   "outputs": [],
   "source": []
  }
 ],
 "metadata": {
  "colab": {
   "collapsed_sections": [],
   "name": "Lab2_assignment_solved.ipynb",
   "provenance": []
  },
  "kernelspec": {
   "display_name": "Python 3",
   "language": "python",
   "name": "python3"
  },
  "language_info": {
   "codemirror_mode": {
    "name": "ipython",
    "version": 3
   },
   "file_extension": ".py",
   "mimetype": "text/x-python",
   "name": "python",
   "nbconvert_exporter": "python",
   "pygments_lexer": "ipython3",
   "version": "3.7.6"
  }
 },
 "nbformat": 4,
 "nbformat_minor": 1
}
