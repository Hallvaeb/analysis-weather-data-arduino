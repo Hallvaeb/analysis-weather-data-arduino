{
 "cells": [
  {
   "cell_type": "markdown",
   "id": "c51cb344",
   "metadata": {},
   "source": [
    "## Databases \n",
    "Mimic III"
   ]
  },
  {
   "cell_type": "code",
   "execution_count": null,
   "id": "2f23c952",
   "metadata": {},
   "outputs": [],
   "source": []
  },
  {
   "cell_type": "markdown",
   "id": "7dc6c8be",
   "metadata": {},
   "source": [
    "### Create Database"
   ]
  },
  {
   "cell_type": "markdown",
   "id": "111bc1f2",
   "metadata": {},
   "source": [
    "Install [postgresql](https://www.postgresql.org/download/), a open source object-relational database system that has earned it a strong reputation for reliability, feature robustness, and performance.\n",
    "\n",
    "During installation, confirm that you install `pgAdmin 4` which is a free open source graphical management tool for PostgreSQL and derivative relational databases (as in the figure below)\n",
    "\n",
    "<img src=\"postgresql.png\" alt=\"postgresql\" width=\"400\" height=\"500\">\n",
    "\n",
    "\n",
    "After instalation, follow the steps to create your database:\n",
    "\n",
    "1. Open `pgAdmin 4'\n",
    "2. Create your own `username` and `passwourd`\n",
    "3. Create a new server\n",
    "    - Right click in Servers -> Create -> Server\n",
    "        <img src=\"create_server1.png\" alt=\"postgresql\" width=\"400\" height=\"500\">\n",
    "    - Name your server `mimic`\n",
    "        <img src=\"create_server2.png\" alt=\"postgresql\" width=\"400\" height=\"500\">\n",
    "    - In Connection tab insert: \n",
    "        1. Host name/adress as localhost\n",
    "        2. Maintenance database as mimic-iii \n",
    "        3. Previous created credentials (username and password)\n",
    "        <img src=\"create_server3.png\" alt=\"postgresql\" width=\"400\" height=\"500\">\n",
    "\n",
    "With your server and database created, now it's time to populate your database. Right click in your database `mimic-iii`and choose `Query Tool`\n",
    "\n",
    "<img src=\"query_tool.png\" alt=\"postgresql\" width=\"400\" height=\"500\">\n",
    "\n",
    "Confirm that you are in the desired server and database in the upper left corner of Query Tool\n",
    "<img src=\"query_tool2.png\" alt=\"postgresql\" width=\"400\" height=\"500\">\n",
    "\n",
    "Open and run the .sql files in the following order:\n",
    "\n",
    "1. Run `postgres_create_tables_mimic.sql` file to generate the MIMIC-III tables\n",
    "2. Run `postgres_add_constraints_mimic.sql` file to generate correspondence between tables\n",
    "3. Run `postgres_add_indexes_mimic.sql` file to generate tables indexes\n",
    "\n",
    "**Important Note**: you should save your .csv files in a folder called data on `C:\\data\\mimic-iii\\`\n",
    "\n",
    "3. Run `postgres_load_data_mimic.sql` file to populate your database through `.csv` files.\n",
    "\n",
    "With your database creates, you can now start querying.\n"
   ]
  },
  {
   "cell_type": "markdown",
   "id": "0b0bce1b",
   "metadata": {},
   "source": [
    "### Structured Query Language (SQL)"
   ]
  },
  {
   "cell_type": "code",
   "execution_count": null,
   "id": "be8f26ad",
   "metadata": {},
   "outputs": [],
   "source": []
  },
  {
   "cell_type": "markdown",
   "id": "17c83972",
   "metadata": {},
   "source": [
    "### Python Connection"
   ]
  },
  {
   "cell_type": "markdown",
   "id": "580ad273",
   "metadata": {},
   "source": [
    "Install `psycopg2` library to connect python to postgresql allowing query. **Tip**: use the environment previously created to pratical classes\n",
    "\n",
    "Write the following code to access to database. **Note**: change `user` and `password` to your credentials"
   ]
  },
  {
   "cell_type": "code",
   "execution_count": 2,
   "id": "d139c652",
   "metadata": {},
   "outputs": [
    {
     "ename": "OperationalError",
     "evalue": "connection to server at \"localhost\" (::1), port 5432 failed: Connection refused (0x0000274D/10061)\n\tIs the server running on that host and accepting TCP/IP connections?\nconnection to server at \"localhost\" (127.0.0.1), port 5432 failed: Connection refused (0x0000274D/10061)\n\tIs the server running on that host and accepting TCP/IP connections?\n",
     "output_type": "error",
     "traceback": [
      "\u001b[1;31m---------------------------------------------------------------------------\u001b[0m",
      "\u001b[1;31mOperationalError\u001b[0m                          Traceback (most recent call last)",
      "\u001b[1;32m~\\AppData\\Local\\Temp/ipykernel_29392/4293014105.py\u001b[0m in \u001b[0;36m<module>\u001b[1;34m\u001b[0m\n\u001b[0;32m      2\u001b[0m \u001b[1;32mimport\u001b[0m \u001b[0mpsycopg2\u001b[0m \u001b[1;32mas\u001b[0m \u001b[0mpsql\u001b[0m\u001b[1;33m\u001b[0m\u001b[1;33m\u001b[0m\u001b[0m\n\u001b[0;32m      3\u001b[0m \u001b[1;33m\u001b[0m\u001b[0m\n\u001b[1;32m----> 4\u001b[1;33m conn = psql.connect(host='localhost',\n\u001b[0m\u001b[0;32m      5\u001b[0m                     \u001b[0mdatabase\u001b[0m\u001b[1;33m=\u001b[0m\u001b[1;34m'mimic-iii'\u001b[0m\u001b[1;33m,\u001b[0m\u001b[1;33m\u001b[0m\u001b[1;33m\u001b[0m\u001b[0m\n\u001b[0;32m      6\u001b[0m                     \u001b[0muser\u001b[0m\u001b[1;33m=\u001b[0m\u001b[1;34m'your_username'\u001b[0m\u001b[1;33m,\u001b[0m\u001b[1;33m\u001b[0m\u001b[1;33m\u001b[0m\u001b[0m\n",
      "\u001b[1;32m~\\miniconda3\\envs\\adv-auto\\lib\\site-packages\\psycopg2\\__init__.py\u001b[0m in \u001b[0;36mconnect\u001b[1;34m(dsn, connection_factory, cursor_factory, **kwargs)\u001b[0m\n\u001b[0;32m    120\u001b[0m \u001b[1;33m\u001b[0m\u001b[0m\n\u001b[0;32m    121\u001b[0m     \u001b[0mdsn\u001b[0m \u001b[1;33m=\u001b[0m \u001b[0m_ext\u001b[0m\u001b[1;33m.\u001b[0m\u001b[0mmake_dsn\u001b[0m\u001b[1;33m(\u001b[0m\u001b[0mdsn\u001b[0m\u001b[1;33m,\u001b[0m \u001b[1;33m**\u001b[0m\u001b[0mkwargs\u001b[0m\u001b[1;33m)\u001b[0m\u001b[1;33m\u001b[0m\u001b[1;33m\u001b[0m\u001b[0m\n\u001b[1;32m--> 122\u001b[1;33m     \u001b[0mconn\u001b[0m \u001b[1;33m=\u001b[0m \u001b[0m_connect\u001b[0m\u001b[1;33m(\u001b[0m\u001b[0mdsn\u001b[0m\u001b[1;33m,\u001b[0m \u001b[0mconnection_factory\u001b[0m\u001b[1;33m=\u001b[0m\u001b[0mconnection_factory\u001b[0m\u001b[1;33m,\u001b[0m \u001b[1;33m**\u001b[0m\u001b[0mkwasync\u001b[0m\u001b[1;33m)\u001b[0m\u001b[1;33m\u001b[0m\u001b[1;33m\u001b[0m\u001b[0m\n\u001b[0m\u001b[0;32m    123\u001b[0m     \u001b[1;32mif\u001b[0m \u001b[0mcursor_factory\u001b[0m \u001b[1;32mis\u001b[0m \u001b[1;32mnot\u001b[0m \u001b[1;32mNone\u001b[0m\u001b[1;33m:\u001b[0m\u001b[1;33m\u001b[0m\u001b[1;33m\u001b[0m\u001b[0m\n\u001b[0;32m    124\u001b[0m         \u001b[0mconn\u001b[0m\u001b[1;33m.\u001b[0m\u001b[0mcursor_factory\u001b[0m \u001b[1;33m=\u001b[0m \u001b[0mcursor_factory\u001b[0m\u001b[1;33m\u001b[0m\u001b[1;33m\u001b[0m\u001b[0m\n",
      "\u001b[1;31mOperationalError\u001b[0m: connection to server at \"localhost\" (::1), port 5432 failed: Connection refused (0x0000274D/10061)\n\tIs the server running on that host and accepting TCP/IP connections?\nconnection to server at \"localhost\" (127.0.0.1), port 5432 failed: Connection refused (0x0000274D/10061)\n\tIs the server running on that host and accepting TCP/IP connections?\n"
     ]
    }
   ],
   "source": [
    "import pandas as pd\n",
    "import psycopg2 as psql\n",
    "\n",
    "conn = psql.connect(host='localhost',\n",
    "                    database='mimic-iii',\n",
    "                    user='your_username',\n",
    "                    password='your_password',\n",
    "                    port=5432)\n",
    "\n",
    "#Create a cursor object using the cursor() method\n",
    "cursor = conn.cursor()\n",
    "\n",
    "#Execute a SQL function using the execute() method\n",
    "cursor.execute(\"select version()\")\n",
    "\n",
    "# Fetch a single row using fetchone() method\n",
    "data = cursor.fetchone()\n",
    "print(\"Connection established to: \", data)\n",
    "\n",
    "# Fetch all rows using fetchall() method\n",
    "cursor.execute(\"SELECT * FROM admissions\")\n",
    "data = cursor.fetchall()\n",
    "\n",
    "# Convert your data to dataframe\n",
    "admission_table = pd.DataFrame(data)\n",
    "print(admission_table)\n",
    "\n",
    "#Closing the connection\n",
    "conn.close()"
   ]
  },
  {
   "cell_type": "markdown",
   "id": "579c3995",
   "metadata": {},
   "source": [
    "### Dashboard and Visualization"
   ]
  },
  {
   "cell_type": "markdown",
   "id": "0e1e5631",
   "metadata": {},
   "source": [
    "Install [PowerBI](https://powerbi.microsoft.com/pt-pt/downloads/) which is a unified, scalable platform for self-service and enterprise business intelligence (BI) that’s easy to use and helps you gain deeper data insight.\n",
    "\n",
    "Install [psqlODBC](https://www.postgresql.org/ftp/odbc/versions/msi/) (version in file `psqlodbc_13_02_0000.zip`). Open Database Connectivity (ODBC) is an open standard Application Programming Interface (API) for accessing a database and `psqlODBC`is the extension for Postgresql databases.\n",
    "\n",
    "Follow the steps to configure the access to your database\n",
    "\n",
    "1. After installation search in your computer for`ODBC Data Sources` as in figure:\n",
    "\n",
    "<img src=\"ODBC.png\" alt=\"postgresql\" width=\"400\" height=\"500\">\n",
    "\n",
    "2. Open `ODBC Data Sources` and add a new data origin with PostgreSQL Unicode\n",
    "\n",
    "<img src=\"ODBC_create.png\" alt=\"postgresql\" width=\"400\" height=\"500\">\n",
    "\n",
    "3. Insert your credentials as in the figure:\n",
    "\n",
    "<img src=\"ODBC_create2.png\" alt=\"postgresql\" width=\"400\" height=\"500\">\n",
    "\n",
    "4. Click `Test` in order to verify your connection. If connection unsucessful, re-write your credentials.\n",
    "\n",
    "<img src=\"ODBC_create3.png\" alt=\"postgresql\" width=\"400\" height=\"500\">\n",
    "\n",
    "After configuration open `PowerBI` and follow the steps:\n",
    "\n",
    "1. Access `Get Data/Obter Dados`\n",
    "\n",
    "<img src=\"get_data.png\" alt=\"postgresql\" width=\"400\" height=\"500\">\n",
    "\n",
    "2. Choose `ODBC` option\n",
    "\n",
    "<img src=\"get_data2.png\" alt=\"postgresql\" width=\"400\" height=\"500\">\n",
    "\n",
    "3. Connect to previously created access \n",
    "\n",
    "<img src=\"get_data3.png\" alt=\"postgresql\" width=\"400\" height=\"500\">\n",
    "\n",
    "4. Insert your credentials\n",
    "\n",
    "<img src=\"get_data4.png\" alt=\"postgresql\" width=\"400\" height=\"500\">\n",
    "\n",
    "Now, you have access to your database and can choose the necessary tables to visualize data\n",
    "\n",
    "<img src=\"get_data5.png\" alt=\"postgresql\" width=\"400\" height=\"500\">\n"
   ]
  },
  {
   "cell_type": "markdown",
   "id": "835f4bb9",
   "metadata": {},
   "source": [
    "### PowerBI tutorial"
   ]
  },
  {
   "cell_type": "code",
   "execution_count": null,
   "id": "92ef4420",
   "metadata": {},
   "outputs": [],
   "source": []
  }
 ],
 "metadata": {
  "hide_input": false,
  "kernelspec": {
   "display_name": "Python 3 (ipykernel)",
   "language": "python",
   "name": "python3"
  },
  "language_info": {
   "codemirror_mode": {
    "name": "ipython",
    "version": 3
   },
   "file_extension": ".py",
   "mimetype": "text/x-python",
   "name": "python",
   "nbconvert_exporter": "python",
   "pygments_lexer": "ipython3",
   "version": "3.10.1"
  }
 },
 "nbformat": 4,
 "nbformat_minor": 5
}
